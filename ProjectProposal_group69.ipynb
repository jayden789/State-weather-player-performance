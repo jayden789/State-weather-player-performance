{
 "cells": [
  {
   "cell_type": "markdown",
   "metadata": {},
   "source": [
    "# COGS 108 - Project Proposal"
   ]
  },
  {
   "cell_type": "markdown",
   "metadata": {},
   "source": [
    "# Names\n",
    "\n",
    "- Vishaal Gaddipati\n",
    "- Ryan Chen\n",
    "- Georolyn Ngo\n",
    "- Thanh Trinh\n",
    "- Armaan Shaikh"
   ]
  },
  {
   "cell_type": "markdown",
   "metadata": {},
   "source": [
    "# Research Question"
   ]
  },
  {
   "cell_type": "markdown",
   "metadata": {},
   "source": [
    "What is the correlation between the average temperature of a given state and the quantity of Division I NCAA basketball players generated between 2019 and 2024? Furthermore, how does the average temperature per state relate to the skill level of Division I basketball players, as indicated by the combined average of points, rebounds, and assists over the season, within that same timeframe?"
   ]
  },
  {
   "cell_type": "markdown",
   "metadata": {},
   "source": [
    "## Background and Prior Work"
   ]
  },
  {
   "cell_type": "markdown",
   "metadata": {},
   "source": [
    "The debate over which state produces the best basketball players has long been a point of contention among Americans, with popular contenders including New York, California, and Florida. While previous research has attempted to answer this question, it has only focused on the socio-economic factors, such as the study by James Tompsett and Chris Knoester that focused extensively on the likelihood of high school athletes advancing to collegiate levels.<a name=\"cite_ref_1\"/>[<sup>1</sup>](#cite_note_1) Indicators of family socioeconomic statuses, athletic development and merit, academic expectations and knowledge, and school contexts were used to predict the likelihood of becoming a college athlete. It was shown that high school athletes with a stronger socioeconomic background are much more likely to become collegiate athletes. The correlation with this is clear but it still does not answer our question. Thus, we aim to investigate another less conventional variable that could help us identify the best basketball state - the average temperature of the state.\n",
    "\n",
    "There have been studies in the past that have looked at the effect of environmental factors on active participation in physical activities. The paper titled \"Assessing the Effects of Weather Conditions on Physical Activity Participation Using Objective Measures\" by Catherine B. Chan and Daniel A. Ryan examines how different weather conditions influence physical activity levels.<a name=\"cite_ref_2\"/>[<sup>2</sup>](#cite_note_2) The study identifies weather as a significant barrier to physical activity, particularly focusing on how adverse conditions such as low temperatures, rain, and snow decrease participation. Using data from various demographic groups, the study highlights that physical activity levels are generally higher on warmer days and lower during inclement weather. We intend on extending this study into the context of basketball. Further, a study done by David Hancock, Matthew Vierimaa, and Ashley Newman revealed that communities with populations of 250,000-499,999 are talent hotspots for high-level competitive basketball. They explained that this is due to favorable infrastructure and social structure, but call for more research into other factors such as crime rates and green spaces. <a name=\"cite_ref_3\"/>[<sup>3</sup>](#cite_note_3)\n",
    "\n",
    "We aim to examine the correlation between a state's average temperature and the number of Division I NCAA basketball players it generates between 2019 and 2024 and foresee that environmental factors such as average temperature would provide residents in those areas different, unequal opportunities for physical activity. Another factor that could come into play is sports culture. As sports are strongly integrated in cultures, we may also observe a change in the popularity of different sports due to weather and how accessible that sport is. Investigating how average temperatures in different states correlate with the emergence of Division I basketball players can offer valuable insights into the broader determinants of athletic success. \n",
    "\n",
    "<a name=\"cite_note_1\"/> [1](#cite_ref_1) Tompsett, J., & Knoester, C. (2022). The Making of a College Athlete: High School Experiences, Socioeconomic Advantages, and the Likelihood of Playing College Sports. Sociology of Sport Journal, 39(2), 129–140. https://doi.org/10.1123/ssj.2020-0142\n",
    "\n",
    "<a name=\"cite_note_2\"/> [2](#cite_ref_2) Chan, C. B., & Ryan, D. A. (2009). Assessing the effects of weather conditions on physical activity participation using objective measures. International journal of environmental research and public health, 6(10), 2639–2654. https://doi.org/10.3390/ijerph6102639\n",
    "\n",
    "<a name=\"cite_note_3\"/> [3](#cite_ref_3) Hancock, D. J., Vierimaa, M., & Newman, A. (2022). The geography of talent development. Frontiers in sports and active living, 4, 1031227. https://doi.org/10.3389/fspor.2022.1031227"
   ]
  },
  {
   "cell_type": "markdown",
   "metadata": {},
   "source": [
    "# Hypothesis\n"
   ]
  },
  {
   "cell_type": "markdown",
   "metadata": {},
   "source": [
    "\n",
    "We hypothesize that there will be a positive correlation between real per capita personal income in a state and the number of Division 1 NCAA basketball players produced from 2012 to 2022. This hypothesis is based on previous research indicating that individuals from higher socioeconomic backgrounds are more likely to pursue athletic endeavors at the collegiate level due to advantages in resources and opportunities\n",
    "\n",
    "We also hypothesize that states with higher average temperatures will have a greater number of Division 1 NCAA basketball players produced from 2012 to 2022. Our reasoning is that warmer climates might facilitate more outdoor basketball activities throughout the year, leading to increased participation and talent development in the sport. Therefore, it is anticipated that states with higher average temperatures will likely produce more Division 1 basketball players compared to states with lower average temperatures."
   ]
  },
  {
   "cell_type": "markdown",
   "metadata": {},
   "source": [
    "# Data"
   ]
  },
  {
   "cell_type": "markdown",
   "metadata": {},
   "source": [
    "The ideal datasets would be:\n",
    "- One that includes every D1 basketball player and their home state (2012-present), and\n",
    "- One that includes the average temperature (either by month or by year) for all US states (2012-present), and\n",
    "- One that includes every D1 basketball players’ statistics (points per game, assists per game, rebounds per game) from 2012-present.\n",
    "\n",
    "The ideal format for these datasets would be something that can be downloadable as CSV.\n",
    "\n",
    "Ideal datasets for us would provide valuable information that can help us answer the question easily without much need for extra data processing. This includes qualities such as well organized tables that are easy to interpret, objectively collected data, and columns that match exactly what we are looking for (player's home state, state's average weather, players’ categorical statistics, etc.). Realistically it is unlikely that we will be able to obtain these in a state where we won't have to process any data, so we aim to look for datasets that include the needed information or include information that can help us derive what we need, for example average monthly temperature datapoints that can help us calculate the average yearly temperature.\n",
    "\n",
    "Datasets that we have found:\n",
    "\n",
    "List of D1 basketball players: https://basketball.realgm.com/ncaa/players/2024/\n",
    "\n",
    "Weather: https://www.kaggle.com/datasets/thedevastator/analyzing-u-s-warming-rates-insights-into-climat or https://www.ncei.noaa.gov/access/monitoring/climate-at-a-glance/statewide/time-series/1/tavg/1/3/1895-2024?base_prd=true&begbaseyear=1901&endbaseyear=2000\n",
    "\n",
    "NCAA D1 Player Stats: https://stats.ncaa.org/rankings/change_sport_year_div"
   ]
  },
  {
   "cell_type": "markdown",
   "metadata": {},
   "source": [
    "# Ethics & Privacy"
   ]
  },
  {
   "cell_type": "markdown",
   "metadata": {},
   "source": [
    "To identify biases or issues in the datasets, our group will conduct a comprehensive review of the data sources, including the list of Division 1 basketball players, their respective stats in different categories, and weather data from various sources such as Kaggle or NOAA. During this review, we will pay particular attention to any potential biases in the composition of the datasets, such as underrepresentation of certain demographic groups or regions, as well as any privacy concerns related to the inclusion of sensitive or potentially identifiable information.\n",
    "\n",
    "Our group will address these biases or issues by employing several strategies throughout the research process:\n",
    "\n",
    "Transparency: We will openly acknowledge any biases or limitations in the datasets, ensuring our analysis is conducted with full transparency and accountability. By providing clear documentation of our data sources, methodologies, and any assumptions made during the analysis, we will enable stakeholders to critically evaluate the findings and understand the context in which they were derived. We will scrutinize any potential biases in our datasets and methods, particularly socioeconomic biases that might influence or skew the analysis. We will make sure data accurately represent all demographics to prevent exclusion of lower-income populations. It is quite easy for machine learning algorithms to ignore the presence of bias in an attempt to uphold accuracy; however, if certain factors are ignored, the accuracy does not take a major hit and the predictions are not biased as well. Therefore, we attempt to fairly represent our dataset.\n",
    "\n",
    "Equity in Analysis: During analysis, we will keep in mind various relevant stakeholders of this project (such as athletes and colleges/universities) and address blindspots in our analysis through considering perspectives from different stakeholders. Further, we hold ourselves to a standard to not hold any biases while performing data analysis to prevent misuse of analytical strategies to propagate existing stereotypes or systemic biases. Our visualizations, summary statistics, and reports should include every point of valid data, and we will try our best to avoid dropping any points of data.\n",
    "\n",
    "Data Validation: We will validate the accuracy and integrity of the datasets through rigorous quality assurance measures, including data cleaning and verification procedures. This will involve checking for inconsistencies or errors, and implementing appropriate corrections to ensure the reliability of our analysis. We will consult multiple sources where possible to cross check obtained data and verify their correctness. Furthermore, we will validate our ability to utilize the data we have collected through checking column headers, data types, and null fields.\n",
    "\n",
    "Privacy Protection: We will prioritize safeguarding individuals privacy rights by adhering to relevant privacy regulations and guidelines, ensuring that any personally identifiable information is handled with care and only used in accordance with ethical standards. Visualizations, summary statistics, and reports should avoid private information where possible. One such way we will do so is by removing irrelevant personal information to our project such as the name, height, and weight of players in the datasets.\n",
    "\n",
    "By maintaining transparency in our methodology and being vigilant about ethical considerations, we aim to uphold the integrity of our research while contributing valuable insights into the socioeconomic factors affecting athletic opportunities in NCAA basketball.\n"
   ]
  },
  {
   "cell_type": "markdown",
   "metadata": {},
   "source": [
    "# Team Expectations "
   ]
  },
  {
   "cell_type": "markdown",
   "metadata": {},
   "source": [
    "* *Team Expectation 1*: Communicate in a timely manner with respect (via Discord or text group chat).\n",
    "* *Team Expectation 2*: Ensure the work completed is quality and meets all marks specified.\n",
    "* *Team Expectation 3*: Set deadlines for divided tasks and reach out whenever help is needed as early as possible.\n",
    "* *Team Expectation 4*: Actively partcipate in group meetings and varying aspects of the project.\n",
    "* *Team Expectation 5*: Keep track of current tasks and discussion points using meeting notes (via Google Docs)."
   ]
  },
  {
   "cell_type": "markdown",
   "metadata": {},
   "source": [
    "# Project Timeline Proposal"
   ]
  },
  {
   "cell_type": "markdown",
   "metadata": {},
   "source": [
    "| Meeting Date  | Meeting Time| Completed Before Meeting  | Discuss at Meeting |\n",
    "|---|---|---|---|\n",
    "| 4/25  |  11 AM | Read & Think about COGS 108 expectations; brainstorm topics/questions  | Determine best form of communication; Discuss and decide on final project topic; discuss hypothesis; begin background research | \n",
    "| 4/30  |  8 PM |  Do background research on topic | Discuss ideal dataset(s) and ethics; draft project proposal | \n",
    "| 5/3  | 8 PM  | Edit, finalize, and submit proposal; Search for datasets  | Discuss Wrangling and possible analytical approaches; Assign group members to lead each specific part   |\n",
    "| 5/6  | 12 PM  | Import & Wrangle Data (Ryan); EDA (Georolyn) | Review/Edit wrangling/EDA; Discuss Analysis Plan   |\n",
    "| 5/13  | 12 PM  | Finalize wrangling/EDA; Begin Analysis (Vishaal; Thanh) | Discuss/edit Analysis; Complete project check-in |\n",
    "| 5/20  | 12 PM  | Complete analysis; Draft results/conclusion/discussion (Armaan)| Discuss/edit full project |\n",
    "| 6/10  | Before 11:59 PM  | NA | Turn in Final Project & Group Project Surveys |"
   ]
  }
 ],
 "metadata": {
  "kernelspec": {
   "display_name": "Python 3",
   "language": "python",
   "name": "python3"
  },
  "language_info": {
   "codemirror_mode": {
    "name": "ipython",
    "version": 3
   },
   "file_extension": ".py",
   "mimetype": "text/x-python",
   "name": "python",
   "nbconvert_exporter": "python",
   "pygments_lexer": "ipython3",
   "version": "3.8.8"
  }
 },
 "nbformat": 4,
 "nbformat_minor": 4
}
