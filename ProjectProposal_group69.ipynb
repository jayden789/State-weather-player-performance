{
 "cells": [
  {
   "cell_type": "markdown",
   "metadata": {},
   "source": [
    "# COGS 108 - Project Proposal"
   ]
  },
  {
   "cell_type": "markdown",
   "metadata": {},
   "source": [
    "# Names\n",
    "\n",
    "- Vishaal Gaddipati\n",
    "- Ryan Chen\n",
    "- Georolyn Ngo\n",
    "- Thanh Trinh\n",
    "- Armaan Shaikh"
   ]
  },
  {
   "cell_type": "markdown",
   "metadata": {},
   "source": [
    "# Research Question"
   ]
  },
  {
   "cell_type": "markdown",
   "metadata": {},
   "source": [
    "How does the real per capita personal income in a particular state correlate with the number of Division 1 NCAA basketball players produced from 2012 to 2022? Additionaly, what is the relationship between the average temperature per state and the emergence of Divison 1 basketball players during that same period?"
   ]
  },
  {
   "cell_type": "markdown",
   "metadata": {},
   "source": [
    "## Background and Prior Work"
   ]
  },
  {
   "cell_type": "markdown",
   "metadata": {},
   "source": [
    "The relationship between socioeconomic background and athletic accomplishment is a divisive topic that has been debated in the news, on social media, and on the Internet for many years. When considering National Collegiate Athletic Association Divison I (NCAA D-I) basketball, understanding the correlation between wealth and the potential to become an athlete of this caliber could help in considering potential ways to provide an equal opportunity to people of all backgrounds that dream of playing sports at the collegiate level. The chance of earning scholarships as well is a life-changing gift that can come with this level of athletic achievement. According to a research conducted by James Tompsett and Chris Knoester on the “extent to which high school indicators of family socioeconomic statuses, athletic development and merit, academic expectations and knowledge, and school contexts predict the likelihood of becoming a college athlete” <a name=\"cite_ref_1\"/>[<sup>1</sup>](#cite_note_1), high school athletes with a stronger socioeconomic background are much more likely to become collegiate athletes. Kristen Hextrum also reached a similar conclusion: that college admissions is more likely to reward those who invest their capital in their children strategically, thus advantaging those who are more well-off financially.<a name=\"cite_ref_2\"/>[<sup>2</sup>](#cite_note_2) Our goal is to understand the impact of economic background on the potential number of future athletes in the United States. While we aim to answer the same question previously answered by Tompsett and Knoester, we hope to broaden the scope and observe an overall trend; compared to the previous study’s more comprehensive approach in analyzing multiple factors for a much smaller dataset (7810 students). Our research aims to understand this relationship by considering the real per capita personal income per state and the production of NCAA D-I basketball players.\n",
    "\n",
    "As a subtopic, something that piqued our interest was the role of environmental factors, particularly temperature, in the emergence of NCAA D-I basketball players specifically. Exploring the possibility that the temperature of specific places could impact why people choose to pursue basketball over other sports, such as ice hockey for example, can provide further insight regarding the number of Divison I basketball players. Since the impact of economic factors has been researched in many facets of college programs, we decided to explore temperature in different states as its impact remains relatively understudied. A study done by David Hancock, Matthew Vierimaa, and Ashley Newman revealed that communities with populations of 250,000-499,999 are talent hotspots for high-level competitive basketball. They explained that this is due to favorable infrastructure and social structure, but call for more research into other factors such as crime rates and green spaces.<a name=\"cite_ref_3\"/>[<sup>3</sup>](#cite_note_3) We foresee that environmental factors such as average temperature would provide residents in those areas different opportunities. As sports are strongly integrated in cultures, we may also observe a change in the popularity of different sports due to weather and how accessible that sport is. Investigating how average temperatures in different states correlate with the emergence of Division I basketball players can offer valuable insights into the broader determinants of athletic success as well as a possible reason behind selecting a specific sport.\n",
    "\n",
    "<a name=\"cite_note_1\"/> [1](#cite_ref_1) Tompsett, J., & Knoester, C. (2022). The Making of a College Athlete: High School Experiences, Socioeconomic Advantages, and the Likelihood of Playing College Sports. Sociology of Sport Journal, 39(2), 129–140. https://doi.org/10.1123/ssj.2020-0142\n",
    "\n",
    "<a name=\"cite_note_2\"/> [2](#cite_ref_2) Hextrum, K. (2024). College overmatch: privilege and the rules of the athletic admissions game. Sociological Spectrum, 44(1), 60–82. https://doi.org/10.1080/02732173.2023.2282571\n",
    "\n",
    "<a name=\"cite_note_3\"/> [3](#cite_ref_3) Hancock, D. J., Vierimaa, M., & Newman, A. (2022). The geography of talent development. Frontiers in sports and active living, 4, 1031227. https://doi.org/10.3389/fspor.2022.1031227"
   ]
  },
  {
   "cell_type": "markdown",
   "metadata": {},
   "source": [
    "# Hypothesis\n"
   ]
  },
  {
   "cell_type": "markdown",
   "metadata": {},
   "source": [
    "\n",
    "- Include your team's hypothesis\n",
    "- Ensure that this hypothesis is clear to readers\n",
    "- Explain why you think this will be the outcome (what was your thinking?)\n",
    "\n",
    "What is your main hypothesis/predictions about what the answer to your question is? Briefly explain your thinking. (2-3 sentences)"
   ]
  },
  {
   "cell_type": "markdown",
   "metadata": {},
   "source": [
    "# Data"
   ]
  },
  {
   "cell_type": "markdown",
   "metadata": {},
   "source": [
    "The ideal datasets would be:\n",
    "- One that includes yearly information on real income per capita for each US state (2012-present), and\n",
    "- One that includes every D1 basketball player and their home state (2012-present), and\n",
    "- One that includes the average temperature (either by month or by year) for all US states (2012-present).\n",
    "\n",
    "The ideal format for these datasets would be something that can be downloadable as CSV.\n",
    "\n",
    "\n",
    "Datasets that we have found:\n",
    "\n",
    "Income by state: https://apps.bea.gov/itable/?ReqID=70&step=1#eyJhcHBpZCI6NzAsInN0ZXBzIjpbMSwyOSwyNSwzMSwyNiwyNywzMF0sImRhdGEiOltbIlRhYmxlSWQiLCI2MDAiXSxbIk1ham9yX0FyZWEiLCIwIl0sWyJTdGF0ZSIsWyIwIl1dLFsiQXJlYSIsWyJYWCJdXSxbIlN0YXRpc3RpYyIsWyI4Il1dLFsiVW5pdF9vZl9tZWFzdXJlIiwiTGV2ZWxzIl0sWyJZZWFyIixbIi0xIl1dLFsiWWVhckJlZ2luIiwiLTEiXSxbIlllYXJfRW5kIiwiLTEiXV19\n",
    "\n",
    "List of D1 basketball players: https://basketball.realgm.com/ncaa/players/2024/\n",
    "\n",
    "Weather: https://www.kaggle.com/datasets/thedevastator/analyzing-u-s-warming-rates-insights-into-climat or https://www.ncei.noaa.gov/access/monitoring/climate-at-a-glance/statewide/time-series/1/tavg/1/3/1895-2024?base_prd=true&begbaseyear=1901&endbaseyear=2000 "
   ]
  },
  {
   "cell_type": "markdown",
   "metadata": {},
   "source": [
    "# Ethics & Privacy"
   ]
  },
  {
   "cell_type": "markdown",
   "metadata": {},
   "source": [
    "- Thoughtful discussion of ethical concerns included\n",
    "- Ethical concerns consider the whole data science process (question asked, data collected, data being used, the bias in data, analysis, post-analysis, etc.)\n",
    "- How your group handled bias/ethical concerns clearly described\n",
    "\n",
    "Acknowledge and address any ethics & privacy related issues of your question(s), proposed dataset(s), and/or analyses. Use the information provided in lecture to guide your group discussion and thinking. If you need further guidance, check out [Deon's Ethics Checklist](http://deon.drivendata.org/#data-science-ethics-checklist). In particular:\n",
    "\n",
    "- Are there any biases/privacy/terms of use issues with the data you propsed?\n",
    "- Are there potential biases in your dataset(s), in terms of who it composes, and how it was collected, that may be problematic in terms of it allowing for equitable analysis? (For example, does your data exclude particular populations, or is it likely to reflect particular human biases in a way that could be a problem?)\n",
    "- How will you set out to detect these specific biases before, during, and after/when communicating your analysis?\n",
    "- Are there any other issues related to your topic area, data, and/or analyses that are potentially problematic in terms of data privacy and equitable impact?\n",
    "- How will you handle issues you identified?"
   ]
  },
  {
   "cell_type": "markdown",
   "metadata": {},
   "source": [
    "# Team Expectations "
   ]
  },
  {
   "cell_type": "markdown",
   "metadata": {},
   "source": [
    "* *Team Expectation 1*: Communicate in a timely manner with respect (via Discord or text group chat).\n",
    "* *Team Expectation 2*: Ensure the work completed is quality and meets all marks specified.\n",
    "* *Team Expectation 3*: Set deadlines for divided tasks and reach out whenever help is needed as early as possible.\n",
    "* *Team Expectation 4*: Actively partcipate in group meetings and varying aspects of the project.\n",
    "* *Team Expectation 5*: Keep track of current tasks and discussion points using meeting notes (via Google Docs)."
   ]
  },
  {
   "cell_type": "markdown",
   "metadata": {},
   "source": [
    "# Project Timeline Proposal"
   ]
  },
  {
   "cell_type": "markdown",
   "metadata": {},
   "source": [
    "| Meeting Date  | Meeting Time| Completed Before Meeting  | Discuss at Meeting |\n",
    "|---|---|---|---|\n",
    "| 4/25  |  11 AM | Read & Think about COGS 108 expectations; brainstorm topics/questions  | Determine best form of communication; Discuss and decide on final project topic; discuss hypothesis; begin background research | \n",
    "| 4/30  |  8 PM |  Do background research on topic | Discuss ideal dataset(s) and ethics; draft project proposal | \n",
    "| 5/3  | 8 PM  | Edit, finalize, and submit proposal; Search for datasets  | Discuss Wrangling and possible analytical approaches; Assign group members to lead each specific part   |\n",
    "| 5/6  | 12 PM  | Import & Wrangle Data (Ryan); EDA (Georolyn) | Review/Edit wrangling/EDA; Discuss Analysis Plan   |\n",
    "| 5/13  | 12 PM  | Finalize wrangling/EDA; Begin Analysis (Vishaal; Thanh) | Discuss/edit Analysis; Complete project check-in |\n",
    "| 5/20  | 12 PM  | Complete analysis; Draft results/conclusion/discussion (Armaan)| Discuss/edit full project |\n",
    "| 6/10  | Before 11:59 PM  | NA | Turn in Final Project & Group Project Surveys |"
   ]
  }
 ],
 "metadata": {
  "kernelspec": {
   "display_name": "Python 3",
   "language": "python",
   "name": "python3"
  },
  "language_info": {
   "codemirror_mode": {
    "name": "ipython",
    "version": 3
   },
   "file_extension": ".py",
   "mimetype": "text/x-python",
   "name": "python",
   "nbconvert_exporter": "python",
   "pygments_lexer": "ipython3",
   "version": "3.8.8"
  }
 },
 "nbformat": 4,
 "nbformat_minor": 2
}
