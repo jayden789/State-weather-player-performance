{
 "cells": [
  {
   "cell_type": "markdown",
   "metadata": {},
   "source": [
    "**If you lost points on the last checkpoint you can get them back by responding to TA/IA feedback**  \n",
    "\n",
    "Update/change the relevant sections where you lost those points, make sure you respond on GitHub Issues to your TA/IA to call their attention to the changes you made here.\n",
    "\n",
    "Please update your Timeline... no battle plan survives contact with the enemy, so make sure we understand how your plans have changed."
   ]
  },
  {
   "cell_type": "markdown",
   "metadata": {},
   "source": [
    "# COGS 108 - EDA Checkpoint"
   ]
  },
  {
   "cell_type": "markdown",
   "metadata": {},
   "source": [
    "# Names\n",
    "\n",
    "- Vishaal Gaddipati\n",
    "- Ryan Chen\n",
    "- Georolyn Ngo\n",
    "- Thanh Trinh\n",
    "- Armaan Shaikh"
   ]
  },
  {
   "cell_type": "markdown",
   "metadata": {},
   "source": [
    "# Research Question"
   ]
  },
  {
   "cell_type": "markdown",
   "metadata": {},
   "source": [
    "What is the correlation between the average temperature of a given state and the quantity of Division I NCAA basketball players generated between season 2018-2019 and 2023-2024? Furthermore, how does the average temperature per state relate to the skill level of Division I basketball players, as indicated by the average of points, rebounds, and assists over the season, within that same timeframe?"
   ]
  },
  {
   "cell_type": "markdown",
   "metadata": {},
   "source": [
    "## Background and Prior Work"
   ]
  },
  {
   "cell_type": "markdown",
   "metadata": {},
   "source": [
    "The debate over which state produces the best basketball players has long been a point of contention among Americans, with popular contenders including New York, California, and Florida. While previous research has attempted to answer this question, it has only focused on the socio-economic factors, such as the study by James Tompsett and Chris Knoester that focused extensively on the likelihood of high school athletes advancing to collegiate levels.<a name=\"cite_ref_1\"/>[<sup>1</sup>](#cite_note_1) Indicators of family socioeconomic statuses, athletic development and merit, academic expectations and knowledge, and school contexts were used to predict the likelihood of becoming a college athlete. It was shown that high school athletes with a stronger socioeconomic background are much more likely to become collegiate athletes. The correlation with this is clear but it still does not answer our question. Thus, we aim to investigate another less conventional variable that could help us identify the best basketball state - the average temperature of the state.\n",
    "\n",
    "There have been studies in the past that have looked at the effect of environmental factors on active participation in physical activities. The paper titled \"Assessing the Effects of Weather Conditions on Physical Activity Participation Using Objective Measures\" by Catherine B. Chan and Daniel A. Ryan examines how different weather conditions influence physical activity levels.<a name=\"cite_ref_2\"/>[<sup>2</sup>](#cite_note_2) The study identifies weather as a significant barrier to physical activity, particularly focusing on how adverse conditions such as low temperatures, rain, and snow decrease participation. Using data from various demographic groups, the study highlights that physical activity levels are generally higher on warmer days and lower during inclement weather. We intend on extending this study into the context of basketball. Further, a study done by David Hancock, Matthew Vierimaa, and Ashley Newman revealed that communities with populations of 250,000-499,999 are talent hotspots for high-level competitive basketball. They explained that this is due to favorable infrastructure and social structure, but call for more research into other factors such as crime rates and green spaces. <a name=\"cite_ref_3\"/>[<sup>3</sup>](#cite_note_3)\n",
    "\n",
    "We aim to examine the correlation between a state's average temperature and the number of Division I NCAA basketball players it generates between 2019 and 2024 and foresee that environmental factors such as average temperature would provide residents in those areas different, unequal opportunities for physical activity. Another factor that could come into play is sports culture. As sports are strongly integrated in cultures, we may also observe a change in the popularity of different sports due to weather and how accessible that sport is. The accessibility of a sport due to climate could potentially have an effect on the opportunities for training and skill development, further impacting on court performance down the line. Investigating how average temperatures in different states correlate with the emergence of Division I basketball players can offer valuable insights into the broader determinants of athletic success. \n",
    "\n",
    "<a name=\"cite_note_1\"/> [1](#cite_ref_1) Tompsett, J., & Knoester, C. (2022). The Making of a College Athlete: High School Experiences, Socioeconomic Advantages, and the Likelihood of Playing College Sports. Sociology of Sport Journal, 39(2), 129–140. https://doi.org/10.1123/ssj.2020-0142\n",
    "\n",
    "<a name=\"cite_note_2\"/> [2](#cite_ref_2) Chan, C. B., & Ryan, D. A. (2009). Assessing the effects of weather conditions on physical activity participation using objective measures. International journal of environmental research and public health, 6(10), 2639–2654. https://doi.org/10.3390/ijerph6102639\n",
    "\n",
    "<a name=\"cite_note_3\"/> [3](#cite_ref_3) Hancock, D. J., Vierimaa, M., & Newman, A. (2022). The geography of talent development. Frontiers in sports and active living, 4, 1031227. https://doi.org/10.3389/fspor.2022.1031227"
   ]
  },
  {
   "cell_type": "markdown",
   "metadata": {},
   "source": [
    "# Hypothesis\n"
   ]
  },
  {
   "cell_type": "markdown",
   "metadata": {},
   "source": [
    "We hypothesize that there will be a positive correlation between the average temperature of a state and the quantity of Division I NCAA basketball players generated between 2018 and 2023. Our rationale is that warmer climates may facilitate greater participation in outdoor sports activities, including basketball, thereby potentially leading to an increased number of talented athletes pursuing collegiate basketball opportunities.\n",
    "\n",
    "Additionally, we anticipate that states with higher average temperatures will exhibit a positive correlation with the skill level of Division I basketball players. Specifically, we expect that players hailing from states with warmer climates will demonstrate a higher combined average of points, rebounds, and assists over the season. This hypothesis is grounded in the notion that favorable weather conditions may provide athletes with more opportunities for training and skill development, ultimately enhancing their performance on the court."
   ]
  },
  {
   "cell_type": "markdown",
   "metadata": {},
   "source": [
    "# Data"
   ]
  },
  {
   "cell_type": "markdown",
   "metadata": {},
   "source": [
    "## Data overview\n",
    "\n",
    "(Datasets #2 and #3 - #5 required some web scraping) \n",
    "- Dataset #1\n",
    "  - Dataset Name: Average Temperature by State\n",
    "  - Link to the dataset: https://www.ncei.noaa.gov/access/monitoring/climate-at-a-glance/statewide/time-series/1/tavg/1/3/1895-2024?base_prd=true&begbaseyear=1901&endbaseyear=2000\n",
    "  - Number of observations: 163527\n",
    "  - Number of variables: 4\n",
    "- Dataset #2\n",
    "  - Dataset Name: Players\n",
    "  - Link to the dataset: https://basketball.realgm.com/ncaa/players/2024/\n",
    "  - Number of observations: 957\n",
    "  - Number of variables: 3\n",
    "- Dataset #3\n",
    "  - Dataset Name: Points per Game\n",
    "  - Link to the dataset: https://stats.ncaa.org/rankings/change_sport_year_div\n",
    "  - Number of observations: 21808\n",
    "  - Number of variables: 4\n",
    "- Dataset #4\n",
    "  - Dataset Name: Assists per Game\n",
    "  - Link to the dataset: https://stats.ncaa.org/rankings/change_sport_year_div\n",
    "  - Number of observations: 26400\n",
    "  - Number of variables: 4\n",
    "- Dataset #5\n",
    "  - Dataset Name: Rebounds per Game\n",
    "  - Link to the dataset: https://stats.ncaa.org/rankings/change_sport_year_div\n",
    "  - Number of observations: 20236\n",
    "  - Number of variables: 4\n",
    "\n",
    "Now write 2 - 5 sentences describing each dataset here. Include a short description of the important variables in the dataset; what the metrics and datatypes are, what concepts they may be proxies for. Include information about how you would need to wrangle/clean/preprocess the dataset\n",
    "- Dataset #1: This dataset covers average temperature by state measured in Fahrenheit from 1895 to 2024 on a monthly basis. It uses a unique code specified in the documentation found on their page that signifies key factors such as the state and year in consideration. The key variables in the dataset are the state, year, month, and temperature all of which are read as type object. All 50 states are included, the years span from 1895-2024, covering all 12 months, with the temperature on the Fahrenheit scale. This dataset is crucial as we will be able to extrapolate the yearly temperature average for each state from 2018-2023 via data wrangling/cleaning. This would involve using a dictionary to interpret the state codes, dropping the years we are not analyzing, and creating a column for the mean temperature over all 12 months. This can then be used to analyze the role the temperature plays in relation to our research question.\n",
    "- Dataset #2: This dataset covers each Division I basketball player's information, from name of player to their height and weight to their birth state. This includes all players from the 2018-19 season up to the 2023-24 season. Since we are only interested in which state the players are from, the only information we need to extract from this dataset is the number of players from each state in each season. This also aligns with our ethics and privacy commitments of removing identifiable personal information. The dataframe after cleaning consists of three columns: state, year, and count.\n",
    "- Dataset #3: This dataset gives information on the points per game statistics for Division I basketball players in seasons 2018-19 through 2023-24. We plan to use this dataset along with other game statistics to help us answer whether some states produce better performing basketball players. After cleaning, the dataframe consists of 4 columns: Rank, PPG, Birth State, and Year. Datasets 3, 4, and 5 will help us answer our sub-question from different aspects of the game.\n",
    "- Dataset #4: This dataset gives information on the assists per game statistics for Division I basketball players in seasons 2018-19 through 2023-24. We plan to use this dataset along with other game statistics to help us answer whether some states produce better performing basketball players. After cleaning, the dataframe consists of 4 columns: Rank, APG, Birth State, and Year. Datasets 3, 4, and 5 will help us answer our sub-question from different aspects of the game.\n",
    "- Dataset #5: This dataset gives information on the rebounds per game statistics for Division I basketball players in seasons 2018-19 through 2023-24. We plan to use this dataset along with other game statistics to help us answer whether some states produce better performing basketball players. After cleaning, the dataframe consists of 4 columns: Rank, RPG, Birth State, and Year. Datasets 3, 4, and 5 will help us answer our sub-question from different aspects of the game.\n",
    "\n",
    "If you plan to use multiple datasets, add a few sentences about how you plan to combine these datasets.\n",
    "\n",
    "We plan to combine these datasets by:\n",
    "- Using datasets 1 and 2 to help us establish a relationship between a state's average weather and the number of division 1 basketball players the state produces.\n",
    "- Using datasets 1 and 3/4/5, in addition to 2 to retrieve a players' state, to establish a relationship between average temperatures and the performance of players from different states. "
   ]
  },
  {
   "cell_type": "markdown",
   "metadata": {},
   "source": [
    "## Dataset #1 (use name instead of number here)"
   ]
  },
  {
   "cell_type": "code",
   "execution_count": null,
   "metadata": {},
   "outputs": [],
   "source": []
  },
  {
   "cell_type": "markdown",
   "metadata": {},
   "source": [
    "## Dataset #2 (if you have more than one, use name instead of number here)"
   ]
  },
  {
   "cell_type": "code",
   "execution_count": null,
   "metadata": {},
   "outputs": [],
   "source": [
    "## YOUR CODE TO LOAD/CLEAN/TIDY/WRANGLE THE DATA GOES HERE\n",
    "## FEEL FREE TO ADD MULTIPLE CELLS PER SECTION "
   ]
  },
  {
   "cell_type": "markdown",
   "metadata": {},
   "source": [
    "# Results\n",
    "\n",
    "## Exploratory Data Analysis\n",
    "\n",
    "Carry out whatever EDA you need to for your project.  Because every project will be different we can't really give you much of a template at this point. But please make sure you describe the what and why in text here as well as providing interpretation of results and context."
   ]
  },
  {
   "cell_type": "markdown",
   "metadata": {},
   "source": [
    "### Section 1 of EDA - please give it a better title than this\n",
    "\n",
    "Some more words and stuff.  Remember notebooks work best if you interleave the code that generates a result with properly annotate figures and text that puts these results into context."
   ]
  },
  {
   "cell_type": "code",
   "execution_count": null,
   "metadata": {},
   "outputs": [],
   "source": [
    "## YOUR CODE HERE\n",
    "## FEEL FREE TO ADD MULTIPLE CELLS PER SECTION"
   ]
  },
  {
   "cell_type": "markdown",
   "metadata": {},
   "source": [
    "### Section 2 of EDA if you need it  - please give it a better title than this\n",
    "\n",
    "Some more words and stuff.  Remember notebooks work best if you interleave the code that generates a result with properly annotate figures and text that puts these results into context."
   ]
  },
  {
   "cell_type": "code",
   "execution_count": null,
   "metadata": {},
   "outputs": [],
   "source": [
    "## YOUR CODE HERE\n",
    "## FEEL FREE TO ADD MULTIPLE CELLS PER SECTION"
   ]
  },
  {
   "cell_type": "markdown",
   "metadata": {},
   "source": [
    "# Ethics & Privacy"
   ]
  },
  {
   "cell_type": "markdown",
   "metadata": {},
   "source": [
    "- Thoughtful discussion of ethical concerns included\n",
    "- Ethical concerns consider the whole data science process (question asked, data collected, data being used, the bias in data, analysis, post-analysis, etc.)\n",
    "- How your group handled bias/ethical concerns clearly described\n",
    "\n",
    "Acknowledge and address any ethics & privacy related issues of your question(s), proposed dataset(s), and/or analyses. Use the information provided in lecture to guide your group discussion and thinking. If you need further guidance, check out [Deon's Ethics Checklist](http://deon.drivendata.org/#data-science-ethics-checklist). In particular:\n",
    "\n",
    "- Are there any biases/privacy/terms of use issues with the data you propsed?\n",
    "- Are there potential biases in your dataset(s), in terms of who it composes, and how it was collected, that may be problematic in terms of it allowing for equitable analysis? (For example, does your data exclude particular populations, or is it likely to reflect particular human biases in a way that could be a problem?)\n",
    "- How will you set out to detect these specific biases before, during, and after/when communicating your analysis?\n",
    "- Are there any other issues related to your topic area, data, and/or analyses that are potentially problematic in terms of data privacy and equitable impact?\n",
    "- How will you handle issues you identified?"
   ]
  },
  {
   "cell_type": "markdown",
   "metadata": {},
   "source": [
    "# Team Expectations "
   ]
  },
  {
   "cell_type": "markdown",
   "metadata": {},
   "source": [
    "\n",
    "Read over the [COGS108 Team Policies](https://github.com/COGS108/Projects/blob/master/COGS108_TeamPolicies.md) individually. Then, include your group’s expectations of one another for successful completion of your COGS108 project below. Discuss and agree on what all of your expectations are. Discuss how your team will communicate throughout the quarter and consider how you will communicate respectfully should conflicts arise. By including each member’s name above and by adding their name to the submission, you are indicating that you have read the COGS108 Team Policies, accept your team’s expectations below, and have every intention to fulfill them. These expectations are for your team’s use and benefit — they won’t be graded for their details.\n",
    "\n",
    "* *Team Expectation 1*\n",
    "* *Team Expectation 2*\n",
    "* *Team Expecation 3*\n",
    "* ..."
   ]
  },
  {
   "cell_type": "markdown",
   "metadata": {},
   "source": [
    "# Project Timeline Proposal"
   ]
  },
  {
   "cell_type": "markdown",
   "metadata": {},
   "source": [
    "Specify your team's specific project timeline. An example timeline has been provided. Changes the dates, times, names, and details to fit your group's plan.\n",
    "\n",
    "If you think you will need any special resources or training outside what we have covered in COGS 108 to solve your problem, then your proposal should state these clearly. For example, if you have selected a problem that involves implementing multiple neural networks, please state this so we can make sure you know what you’re doing and so we can point you to resources you will need to implement your project. Note that you are not required to use outside methods.\n",
    "\n",
    "\n",
    "\n",
    "| Meeting Date  | Meeting Time| Completed Before Meeting  | Discuss at Meeting |\n",
    "|---|---|---|---|\n",
    "| 1/20  |  1 PM | Read & Think about COGS 108 expectations; brainstorm topics/questions  | Determine best form of communication; Discuss and decide on final project topic; discuss hypothesis; begin background research | \n",
    "| 1/26  |  10 AM |  Do background research on topic | Discuss ideal dataset(s) and ethics; draft project proposal | \n",
    "| 2/1  | 10 AM  | Edit, finalize, and submit proposal; Search for datasets  | Discuss Wrangling and possible analytical approaches; Assign group members to lead each specific part   |\n",
    "| 2/14  | 6 PM  | Import & Wrangle Data (Ant Man); EDA (Hulk) | Review/Edit wrangling/EDA; Discuss Analysis Plan   |\n",
    "| 2/23  | 12 PM  | Finalize wrangling/EDA; Begin Analysis (Iron Man; Thor) | Discuss/edit Analysis; Complete project check-in |\n",
    "| 3/13  | 12 PM  | Complete analysis; Draft results/conclusion/discussion (Wasp)| Discuss/edit full project |\n",
    "| 3/20  | Before 11:59 PM  | NA | Turn in Final Project & Group Project Surveys |"
   ]
  }
 ],
 "metadata": {
  "kernelspec": {
   "display_name": "Python 3 (ipykernel)",
   "language": "python",
   "name": "python3"
  },
  "language_info": {
   "codemirror_mode": {
    "name": "ipython",
    "version": 3
   },
   "file_extension": ".py",
   "mimetype": "text/x-python",
   "name": "python",
   "nbconvert_exporter": "python",
   "pygments_lexer": "ipython3",
   "version": "3.11.6"
  }
 },
 "nbformat": 4,
 "nbformat_minor": 2
}
